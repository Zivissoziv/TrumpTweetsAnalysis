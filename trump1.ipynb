{
 "cells": [
  {
   "cell_type": "code",
   "execution_count": 1,
   "metadata": {
    "collapsed": true
   },
   "outputs": [],
   "source": [
    "import pandas as pd\n",
    "import numpy as np\n",
    "\n",
    "#读取数据\n",
    "data = pd.read_json('trump_tweets_2009~2018.json')"
   ]
  },
  {
   "cell_type": "code",
   "execution_count": 2,
   "metadata": {},
   "outputs": [
    {
     "data": {
      "text/html": [
       "<div>\n",
       "<style>\n",
       "    .dataframe thead tr:only-child th {\n",
       "        text-align: right;\n",
       "    }\n",
       "\n",
       "    .dataframe thead th {\n",
       "        text-align: left;\n",
       "    }\n",
       "\n",
       "    .dataframe tbody tr th {\n",
       "        vertical-align: top;\n",
       "    }\n",
       "</style>\n",
       "<table border=\"1\" class=\"dataframe\">\n",
       "  <thead>\n",
       "    <tr style=\"text-align: right;\">\n",
       "      <th></th>\n",
       "      <th>created_at</th>\n",
       "      <th>favorite_count</th>\n",
       "      <th>id_str</th>\n",
       "      <th>in_reply_to_user_id_str</th>\n",
       "      <th>is_retweet</th>\n",
       "      <th>retweet_count</th>\n",
       "      <th>source</th>\n",
       "      <th>text</th>\n",
       "    </tr>\n",
       "  </thead>\n",
       "  <tbody>\n",
       "    <tr>\n",
       "      <th>33659</th>\n",
       "      <td>2018-01-10 04:23:58</td>\n",
       "      <td>60252</td>\n",
       "      <td>950946293077209088</td>\n",
       "      <td>NaN</td>\n",
       "      <td>False</td>\n",
       "      <td>13822</td>\n",
       "      <td>Twitter for iPhone</td>\n",
       "      <td>.@ICEgov HSI agents and ERO officers, on behal...</td>\n",
       "    </tr>\n",
       "    <tr>\n",
       "      <th>33660</th>\n",
       "      <td>2018-01-10 03:48:26</td>\n",
       "      <td>51951</td>\n",
       "      <td>950937350003183616</td>\n",
       "      <td>NaN</td>\n",
       "      <td>False</td>\n",
       "      <td>11893</td>\n",
       "      <td>Twitter for iPhone</td>\n",
       "      <td>Thank you @GOPLeader Kevin McCarthy! Couldn’t ...</td>\n",
       "    </tr>\n",
       "    <tr>\n",
       "      <th>33661</th>\n",
       "      <td>2018-01-10 00:16:57</td>\n",
       "      <td>123413</td>\n",
       "      <td>950884128379035648</td>\n",
       "      <td>NaN</td>\n",
       "      <td>False</td>\n",
       "      <td>24552</td>\n",
       "      <td>Twitter for iPhone</td>\n",
       "      <td>As I made very clear today, our country needs ...</td>\n",
       "    </tr>\n",
       "    <tr>\n",
       "      <th>33662</th>\n",
       "      <td>2018-01-09 23:59:38</td>\n",
       "      <td>0</td>\n",
       "      <td>950879772644659200</td>\n",
       "      <td>NaN</td>\n",
       "      <td>True</td>\n",
       "      <td>11716</td>\n",
       "      <td>Twitter for iPhone</td>\n",
       "      <td>RT @Scavino45: “Utilities cutting rates, cite ...</td>\n",
       "    </tr>\n",
       "    <tr>\n",
       "      <th>33663</th>\n",
       "      <td>2018-01-09 23:07:09</td>\n",
       "      <td>82151</td>\n",
       "      <td>950866561153331200</td>\n",
       "      <td>NaN</td>\n",
       "      <td>False</td>\n",
       "      <td>19481</td>\n",
       "      <td>Twitter for iPhone</td>\n",
       "      <td>Today, it was my great honor to sign a new Exe...</td>\n",
       "    </tr>\n",
       "  </tbody>\n",
       "</table>\n",
       "</div>"
      ],
      "text/plain": [
       "               created_at  favorite_count              id_str  \\\n",
       "33659 2018-01-10 04:23:58           60252  950946293077209088   \n",
       "33660 2018-01-10 03:48:26           51951  950937350003183616   \n",
       "33661 2018-01-10 00:16:57          123413  950884128379035648   \n",
       "33662 2018-01-09 23:59:38               0  950879772644659200   \n",
       "33663 2018-01-09 23:07:09           82151  950866561153331200   \n",
       "\n",
       "       in_reply_to_user_id_str  is_retweet  retweet_count              source  \\\n",
       "33659                      NaN       False          13822  Twitter for iPhone   \n",
       "33660                      NaN       False          11893  Twitter for iPhone   \n",
       "33661                      NaN       False          24552  Twitter for iPhone   \n",
       "33662                      NaN        True          11716  Twitter for iPhone   \n",
       "33663                      NaN       False          19481  Twitter for iPhone   \n",
       "\n",
       "                                                    text  \n",
       "33659  .@ICEgov HSI agents and ERO officers, on behal...  \n",
       "33660  Thank you @GOPLeader Kevin McCarthy! Couldn’t ...  \n",
       "33661  As I made very clear today, our country needs ...  \n",
       "33662  RT @Scavino45: “Utilities cutting rates, cite ...  \n",
       "33663  Today, it was my great honor to sign a new Exe...  "
      ]
     },
     "execution_count": 2,
     "metadata": {},
     "output_type": "execute_result"
    }
   ],
   "source": [
    "#预览部分数据\n",
    "data.tail()"
   ]
  },
  {
   "cell_type": "code",
   "execution_count": 5,
   "metadata": {},
   "outputs": [
    {
     "name": "stdout",
     "output_type": "stream",
     "text": [
      "The lenght's average in tweets: 112.30\n"
     ]
    }
   ],
   "source": [
    "#平均长度\n",
    "mean_length = np.mean([len(i) for i in data.text])\n",
    "print(\"The lenght's average in tweets: %.2f\" % mean_length)"
   ]
  },
  {
   "cell_type": "code",
   "execution_count": 9,
   "metadata": {},
   "outputs": [
    {
     "name": "stdout",
     "output_type": "stream",
     "text": [
      "The tweets with more like:\n",
      "[ 'Such a beautiful and important evening! The forgotten man and woman will never be forgotten again. We will all come together as never before']\n",
      "Numbers of like: 633253\n",
      "\n",
      "The tweets with more reweet:\n",
      "['#FraudNewsCNN #FNN https://t.co/WYUnHjjUjg']\n",
      "Numbers of reweet: 369530\n"
     ]
    }
   ],
   "source": [
    "#最高赞与最高转发\n",
    "max_fav_num = data.favorite_count.max()\n",
    "max_fav_text = data.text[data.favorite_count == max_fav_num]\n",
    "\n",
    "max_ret_num = data.retweet_count.max()\n",
    "max_ret_text = data.text[data.retweet_count == max_ret_num]\n",
    "\n",
    "print('The tweets with more like:\\n{}'.format(max_fav_text.values))\n",
    "print('Numbers of like: {}'.format(max_fav_num))\n",
    "print()\n",
    "print('The tweets with more reweet:\\n{}'.format(max_ret_text.values))\n",
    "print('Numbers of reweet: {}'.format(max_ret_num))"
   ]
  },
  {
   "cell_type": "code",
   "execution_count": 15,
   "metadata": {},
   "outputs": [
    {
     "data": {
      "text/plain": [
       "<matplotlib.axes._subplots.AxesSubplot at 0x18702d55390>"
      ]
     },
     "execution_count": 15,
     "metadata": {},
     "output_type": "execute_result"
    },
    {
     "data": {
      "image/png": "[encoded data removed]",
      "text/plain": [
       "<matplotlib.figure.Figure at 0x187035d6550>"
      ]
     },
     "metadata": {},
     "output_type": "display_data"
    }
   ],
   "source": [
    "#点赞量与转发量分析\n",
    "%matplotlib inline\n",
    "\n",
    "fav_tweets = pd.Series(data = data.favorite_count.values,index = data.created_at)\n",
    "ret_tweets = pd.Series(data = data.retweet_count.values,index = data.created_at)\n",
    "\n",
    "fav_tweets.plot(figsize=(16,4), label=\"favorite_count\", legend=True)\n",
    "ret_tweets.plot(figsize=(16,4), label=\"retweet_count\", legend=True)"
   ]
  },
  {
   "cell_type": "code",
   "execution_count": null,
   "metadata": {
    "collapsed": true
   },
   "outputs": [],
   "source": []
  }
 ],
 "metadata": {
  "kernelspec": {
   "display_name": "Python 3",
   "language": "python",
   "name": "python3"
  },
  "language_info": {
   "codemirror_mode": {
    "name": "ipython",
    "version": 3
   },
   "file_extension": ".py",
   "mimetype": "text/x-python",
   "name": "python",
   "nbconvert_exporter": "python",
   "pygments_lexer": "ipython3",
   "version": "3.6.3"
  }
 },
 "nbformat": 4,
 "nbformat_minor": 2
}
